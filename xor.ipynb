{
 "cells": [
  {
   "cell_type": "code",
   "execution_count": 8,
   "id": "060155ea",
   "metadata": {},
   "outputs": [],
   "source": [
    "import tensorflow as tf\n",
    "from tensorflow import keras\n",
    "from tensorflow.keras import layers\n",
    "import numpy as np"
   ]
  },
  {
   "cell_type": "code",
   "execution_count": 9,
   "id": "be8669a3",
   "metadata": {},
   "outputs": [],
   "source": [
    "model_xor = tf.keras.Sequential([\n",
    "    layers.Dense(2, input_dim=2, activation='relu'),\n",
    "    layers.Dense(1, activation='sigmoid')\n",
    "])\n",
    "model_xor.compile(loss='binary_crossentropy', optimizer = 'adam', metrics=['accuracy'])"
   ]
  },
  {
   "cell_type": "code",
   "execution_count": 10,
   "id": "909af777",
   "metadata": {},
   "outputs": [
    {
     "name": "stdout",
     "output_type": "stream",
     "text": [
      "Model: \"sequential\"\n",
      "_________________________________________________________________\n",
      " Layer (type)                Output Shape              Param #   \n",
      "=================================================================\n",
      " dense (Dense)               (None, 2)                 6         \n",
      "                                                                 \n",
      " dense_1 (Dense)             (None, 1)                 3         \n",
      "                                                                 \n",
      "=================================================================\n",
      "Total params: 9\n",
      "Trainable params: 9\n",
      "Non-trainable params: 0\n",
      "_________________________________________________________________\n"
     ]
    }
   ],
   "source": [
    "model_xor.summary()"
   ]
  },
  {
   "cell_type": "code",
   "execution_count": 11,
   "id": "20052739",
   "metadata": {},
   "outputs": [],
   "source": [
    "X = np.array([[0,0],[0,1],[1,0],[1,1]])\n",
    "y = np.array([[0],[1],[1],[0]])"
   ]
  },
  {
   "cell_type": "code",
   "execution_count": 12,
   "id": "759cd2c8",
   "metadata": {},
   "outputs": [
    {
     "data": {
      "text/plain": [
       "<keras.callbacks.History at 0x1dd1dc91df0>"
      ]
     },
     "execution_count": 12,
     "metadata": {},
     "output_type": "execute_result"
    }
   ],
   "source": [
    "model_xor.fit(X, y, batch_size=1, epochs=1000, verbose=0)"
   ]
  },
  {
   "cell_type": "code",
   "execution_count": 14,
   "id": "5c0e8aa8",
   "metadata": {},
   "outputs": [
    {
     "name": "stdout",
     "output_type": "stream",
     "text": [
      "4/4 [==============================] - 0s 2ms/step - loss: 0.3875 - accuracy: 0.7500\n",
      "Loss:  0.3874759376049042\n",
      "Accuracy:  0.75\n"
     ]
    }
   ],
   "source": [
    "loss, accuracy = model_xor.evaluate(X, y, batch_size=1)\n",
    "print(\"Loss: \", loss)\n",
    "print(\"Accuracy: \", accuracy)"
   ]
  },
  {
   "cell_type": "code",
   "execution_count": 15,
   "id": "76ab429e",
   "metadata": {},
   "outputs": [
    {
     "name": "stdout",
     "output_type": "stream",
     "text": [
      "1/1 [==============================] - 0s 68ms/step\n",
      "XOR(0,0) [[0.48407787]]\n",
      "1/1 [==============================] - 0s 16ms/step\n",
      "XOR(0,1) [[0.9507801]]\n",
      "1/1 [==============================] - 0s 17ms/step\n",
      "XOR(1,0) [[0.48407787]]\n",
      "1/1 [==============================] - 0s 14ms/step\n",
      "XOR(1,1) [[0.10606518]]\n"
     ]
    }
   ],
   "source": [
    "print('XOR(0,0)', model_xor.predict(np.array([[0,0]])))\n",
    "print('XOR(0,1)', model_xor.predict(np.array([[0,1]])))\n",
    "print('XOR(1,0)', model_xor.predict(np.array([[1,0]])))\n",
    "print('XOR(1,1)', model_xor.predict(np.array([[1,1]])))"
   ]
  }
 ],
 "metadata": {
  "kernelspec": {
   "display_name": "Python 3 (ipykernel)",
   "language": "python",
   "name": "python3"
  },
  "language_info": {
   "codemirror_mode": {
    "name": "ipython",
    "version": 3
   },
   "file_extension": ".py",
   "mimetype": "text/x-python",
   "name": "python",
   "nbconvert_exporter": "python",
   "pygments_lexer": "ipython3",
   "version": "3.9.13"
  }
 },
 "nbformat": 4,
 "nbformat_minor": 5
}
